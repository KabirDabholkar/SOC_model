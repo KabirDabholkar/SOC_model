{
 "cells": [
  {
   "cell_type": "code",
   "execution_count": 1,
   "metadata": {},
   "outputs": [],
   "source": [
    "import numpy as np\n",
    "import networkx as nx\n",
    "import matplotlib.pyplot as plt\n",
    "import seaborn as sns\n",
    "#from random import randint\n",
    "import math\n",
    "import heapq"
   ]
  },
  {
   "cell_type": "code",
   "execution_count": 3,
   "metadata": {},
   "outputs": [
    {
     "ename": "NameError",
     "evalue": "name 'G' is not defined",
     "output_type": "error",
     "traceback": [
      "\u001b[0;31m---------------------------------------------------------------------------\u001b[0m",
      "\u001b[0;31mNameError\u001b[0m                                 Traceback (most recent call last)",
      "\u001b[0;32m<ipython-input-3-b79dafde1066>\u001b[0m in \u001b[0;36m<module>\u001b[0;34m\u001b[0m\n\u001b[0;32m----> 1\u001b[0;31m \u001b[0mA\u001b[0m \u001b[0;34m=\u001b[0m \u001b[0mnx\u001b[0m\u001b[0;34m.\u001b[0m\u001b[0mto_numpy_matrix\u001b[0m\u001b[0;34m(\u001b[0m\u001b[0mG\u001b[0m\u001b[0;34m,\u001b[0m \u001b[0mdtype\u001b[0m\u001b[0;34m=\u001b[0m\u001b[0mnp\u001b[0m\u001b[0;34m.\u001b[0m\u001b[0mbool\u001b[0m\u001b[0;34m)\u001b[0m\u001b[0;34m\u001b[0m\u001b[0;34m\u001b[0m\u001b[0m\n\u001b[0m\u001b[1;32m      2\u001b[0m \u001b[0;31m#fig = plt.figure(figsize=(5, 5))\u001b[0m\u001b[0;34m\u001b[0m\u001b[0;34m\u001b[0m\u001b[0;34m\u001b[0m\u001b[0m\n\u001b[1;32m      3\u001b[0m \u001b[0;31m#plt.imshow(A,cmap=\"Greys\",interpolation=\"none\")\u001b[0m\u001b[0;34m\u001b[0m\u001b[0;34m\u001b[0m\u001b[0;34m\u001b[0m\u001b[0m\n\u001b[1;32m      4\u001b[0m \u001b[0msns\u001b[0m\u001b[0;34m.\u001b[0m\u001b[0mheatmap\u001b[0m\u001b[0;34m(\u001b[0m\u001b[0mA\u001b[0m\u001b[0;34m,\u001b[0m \u001b[0mcmap\u001b[0m \u001b[0;34m=\u001b[0m \u001b[0;34m\"Blues\"\u001b[0m\u001b[0;34m)\u001b[0m\u001b[0;34m\u001b[0m\u001b[0;34m\u001b[0m\u001b[0m\n",
      "\u001b[0;31mNameError\u001b[0m: name 'G' is not defined"
     ]
    }
   ],
   "source": [
    "A = nx.to_numpy_matrix(G, dtype=np.bool)\n",
    "#fig = plt.figure(figsize=(5, 5))\n",
    "#plt.imshow(A,cmap=\"Greys\",interpolation=\"none\")   \n",
    "sns.heatmap(A, cmap = \"Blues\")"
   ]
  },
  {
   "cell_type": "code",
   "execution_count": null,
   "metadata": {
    "collapsed": true
   },
   "outputs": [],
   "source": [
    "np.all(A.T==A)"
   ]
  },
  {
   "cell_type": "code",
   "execution_count": 4,
   "metadata": {},
   "outputs": [
    {
     "ename": "NameError",
     "evalue": "name 'A' is not defined",
     "output_type": "error",
     "traceback": [
      "\u001b[0;31m---------------------------------------------------------------------------\u001b[0m",
      "\u001b[0;31mNameError\u001b[0m                                 Traceback (most recent call last)",
      "\u001b[0;32m<ipython-input-4-5a2e0a6c8323>\u001b[0m in \u001b[0;36m<module>\u001b[0;34m\u001b[0m\n\u001b[0;32m----> 1\u001b[0;31m \u001b[0mnp\u001b[0m\u001b[0;34m.\u001b[0m\u001b[0maverage\u001b[0m\u001b[0;34m(\u001b[0m\u001b[0mnp\u001b[0m\u001b[0;34m.\u001b[0m\u001b[0msum\u001b[0m\u001b[0;34m(\u001b[0m\u001b[0mA\u001b[0m\u001b[0;34m,\u001b[0m\u001b[0;36m1\u001b[0m\u001b[0;34m)\u001b[0m\u001b[0;34m)\u001b[0m\u001b[0;34m\u001b[0m\u001b[0;34m\u001b[0m\u001b[0m\n\u001b[0m",
      "\u001b[0;31mNameError\u001b[0m: name 'A' is not defined"
     ]
    }
   ],
   "source": [
    "np.average(np.sum(A,1))"
   ]
  },
  {
   "cell_type": "code",
   "execution_count": 30,
   "metadata": {
    "collapsed": true
   },
   "outputs": [],
   "source": [
    "A=nx.adjacency_matrix(G)"
   ]
  },
  {
   "cell_type": "markdown",
   "metadata": {},
   "source": [
    "# This is where it starts"
   ]
  },
  {
   "cell_type": "code",
   "execution_count": 2,
   "metadata": {},
   "outputs": [
    {
     "name": "stdout",
     "output_type": "stream",
     "text": [
      "\f",
      "\n"
     ]
    }
   ],
   "source": [
    "clear all"
   ]
  },
  {
   "cell_type": "code",
   "execution_count": 2,
   "metadata": {},
   "outputs": [],
   "source": [
    "def avalanche(x,A,f,N):\n",
    "\n",
    "    count = 0\n",
    "    degree = np.array(np.sum(A,0))[0]\n",
    "    degree = np.reshape(degree, (N,1))\n",
    "    xc = np.reshape(degree + (degree==0), (N,1))\n",
    "    spikes = np.multiply(x>=xc, 1)\n",
    "    ava = spikes.copy()\n",
    "    while np.sum(np.multiply(degree,spikes))> 0:\n",
    "        ava = np.multiply((ava+spikes)>0,1)\n",
    "        spikes = np.multiply(x>=xc, 1)\n",
    "        spikes = np.reshape(spikes,(N,1))\n",
    "        x = x + A*spikes\n",
    "        x = x - np.multiply(spikes,degree)\n",
    "        x = x - (np.random.rand(N,1)>f)\n",
    "        x = np.multiply(x,(x>0))\n",
    "        count = count + 1\n",
    "\n",
    "    return [x,ava]"
   ]
  },
  {
   "cell_type": "code",
   "execution_count": 3,
   "metadata": {},
   "outputs": [],
   "source": [
    "def my_kmax(R,k):\n",
    "    N = len(R)\n",
    "    f = np.ravel(R)\n",
    "    #print(f)\n",
    "    indices = np.array(heapq.nlargest(k, range(len(f)), f.__getitem__))\n",
    "    j = np.mod(indices,N)\n",
    "    i = np.floor(indices/N)\n",
    "    #print(indices)\n",
    "    return [i,j]"
   ]
  },
  {
   "cell_type": "code",
   "execution_count": 4,
   "metadata": {},
   "outputs": [
    {
     "data": {
      "image/png": "[encoded data removed]",
      "text/plain": [
       "<Figure size 432x288 with 2 Axes>"
      ]
     },
     "metadata": {
      "needs_background": "light"
     },
     "output_type": "display_data"
    }
   ],
   "source": [
    "N = 500\n",
    "f = 0.1 #f leak (fraction of leak)\n",
    "f = 1-f\n",
    "mean_degree = 4\n",
    "\n",
    "K = 4\n",
    "steps = 5000\n",
    "#tic\n",
    "np.random.seed(1)\n",
    "G = nx.erdos_renyi_graph(N,mean_degree/N)\n",
    "\n",
    "\n",
    "A = nx.to_numpy_matrix(G, dtype=np.int)\n",
    "fig = plt.figure(figsize=(5, 5))\n",
    "plt.title(\"Adjacency Matrix\")\n",
    "#plt.imshow(A,cmap=\"Greys\",interpolation=\"none\")   \n",
    "%matplotlib inline\n",
    "sns.heatmap(A, cmap=\"Greys\")\n",
    "plt.show()\n",
    "\n",
    "#storex = np.zeros((N,steps))\n",
    "#storex_noava = np.zeros((N,steps))\n",
    "\n",
    "temp = np.arange(0,N**2)\n",
    "R = temp.reshape(N,N)\n",
    "R = np.multiply(R,A)\n",
    "A_ini = A.copy()\n",
    "degree = np.array(np.sum(A,0))[0]"
   ]
  },
  {
   "cell_type": "code",
   "execution_count": 31,
   "metadata": {
    "collapsed": true
   },
   "outputs": [],
   "source": [
    "f = 0.1"
   ]
  },
  {
   "cell_type": "code",
   "execution_count": 32,
   "metadata": {
    "collapsed": true
   },
   "outputs": [],
   "source": [
    "plt.close(\"all\")"
   ]
  },
  {
   "cell_type": "code",
   "execution_count": 33,
   "metadata": {
    "collapsed": true
   },
   "outputs": [],
   "source": [
    "#PLOTTING DEG DIST\n",
    "\n",
    "#degree = list(ele.item(0) for ele in degree)\n",
    "#temp = np.bincount(degree)\n",
    "#x_axis = np.arange(0,max(degree)+1)\n",
    "#plt.ylabel(\"Frequency\")\n",
    "#plt.xlabel(\"Degree\")\n",
    "#plt.loglog(x_axis,temp)\n"
   ]
  },
  {
   "cell_type": "code",
   "execution_count": null,
   "metadata": {},
   "outputs": [
    {
     "name": "stdout",
     "output_type": "stream",
     "text": [
      "0\n"
     ]
    }
   ],
   "source": [
    "#Initial State\n",
    "x = np.zeros((N,1));\n",
    "for i in range(N):\n",
    "    if degree[i]>0:\n",
    "        np.random.seed(1)\n",
    "        x[i]=np.random.randint(0,degree[i])\n",
    "    else:\n",
    "        x[i]=0\n",
    "        \n",
    "xb = x\n",
    "\n",
    "count = 0\n",
    "xsave = [0]*steps\n",
    "for i in range(steps):\n",
    "    if np.mod(i,steps/100) == 0:\n",
    "        print(i)\n",
    "        #print(a)\n",
    "    \n",
    "        \n",
    "    #Particle addition\n",
    "    \n",
    "    add_site = np.random.randint(0,N-1)\n",
    "\n",
    "    x[add_site] = x[add_site] + 1\n",
    "\n",
    "    #Avalanche processing\n",
    "    degree = np.array(np.sum(A,0))[0]\n",
    "    degree = np.reshape(degree, (N,1))\n",
    "    xc = np.reshape(degree + (degree==0), (N,1))\n",
    "    spikes = np.multiply(x>=xc, 1)\n",
    "    ava = spikes.copy()\n",
    "    temp1 = np.zeros((N,1))\n",
    "    if np.sum(np.multiply(degree,spikes))>0: \n",
    "        [x,temp1] = avalanche(x,A,f,N)\n",
    "        count = count + 1\n",
    "    ava = np.multiply((ava+temp1)>0,1)\n",
    "    #xsave[i] = x\n",
    "    a = np.sum(ava)\n",
    "    #print(a)\n",
    "    \n",
    "    ##Rewiring\n",
    "    \n",
    "    R = np.multiply(R,A)\n",
    "    Ruse = R.copy()\n",
    "    \n",
    "    for c1 in range(N):\n",
    "        for c2 in range(N):\n",
    "            if Ruse[c1,c2] <= Ruse[c2,c1]:\n",
    "                Ruse[c1,c2] = -1\n",
    "            else:\n",
    "                Ruse[c2,c1] = -1\n",
    "\n",
    "    ie,je = my_kmax(Ruse,a)\n",
    "\n",
    "    for j in range(a):\n",
    "        if (je[j] != add_site) & (A[int(ie[j]),int(je[j])] != 0) & (A[add_site,je[j]] == 0):\n",
    "            #print('hi')\n",
    "            A[int(ie[j]),int(je[j])] = 0\n",
    "            A[int(je[j]),int(ie[j])] = 0\n",
    "\n",
    "            A[add_site,je[j]] = 1\n",
    "            A[je[j],add_site] = 1\n",
    "\n",
    "            R = np.multiply((R+1),A)    "
   ]
  },
  {
   "cell_type": "code",
   "execution_count": 7,
   "metadata": {},
   "outputs": [
    {
     "name": "stdout",
     "output_type": "stream",
     "text": [
      "Using matplotlib backend: Qt5Agg\n"
     ]
    }
   ],
   "source": [
    "%matplotlib\n",
    "\n",
    "degree = list(degree.flat)\n",
    "temp = np.bincount(degree)\n",
    "x_axis = np.arange(0,max(degree)+1)\n",
    "plt.ylabel(\"Frequency\")\n",
    "plt.xlabel(\"Degree\")\n",
    "\n",
    "plt.scatter(x_axis,temp)\n",
    "plt.plot(x_axis,temp)\n",
    "plt.xscale('log')\n",
    "plt.yscale('log')\n",
    "plt.show()"
   ]
  },
  {
   "cell_type": "code",
   "execution_count": 25,
   "metadata": {},
   "outputs": [
    {
     "data": {
      "text/plain": [
       "3"
      ]
     },
     "execution_count": 25,
     "metadata": {},
     "output_type": "execute_result"
    }
   ],
   "source": []
  },
  {
   "cell_type": "code",
   "execution_count": 72,
   "metadata": {},
   "outputs": [
    {
     "data": {
      "text/plain": [
       "2006"
      ]
     },
     "execution_count": 72,
     "metadata": {},
     "output_type": "execute_result"
    }
   ],
   "source": [
    "np.count_nonzero(A)"
   ]
  },
  {
   "cell_type": "code",
   "execution_count": 94,
   "metadata": {},
   "outputs": [
    {
     "data": {
      "image/png": "[encoded data removed]",
      "text/plain": [
       "<Figure size 432x288 with 1 Axes>"
      ]
     },
     "metadata": {},
     "output_type": "display_data"
    }
   ],
   "source": [
    "import matplotlib.pyplot as plt\n",
    "import networkx as nx\n",
    "\n",
    "def plot_degree_dist(G):\n",
    "    degrees = [G.degree(n) for n in G.nodes()]\n",
    "    plt.hist(degrees)\n",
    "    plt.show()\n",
    "\n",
    "plot_degree_dist(nx.DiGraph(A))"
   ]
  },
  {
   "cell_type": "code",
   "execution_count": 79,
   "metadata": {},
   "outputs": [
    {
     "data": {
      "text/plain": [
       "500"
      ]
     },
     "execution_count": 79,
     "metadata": {},
     "output_type": "execute_result"
    }
   ],
   "source": [
    "degrees = [G.degree(n) for n in G.nodes()]\n",
    "len(degrees)"
   ]
  },
  {
   "cell_type": "code",
   "execution_count": 9,
   "metadata": {},
   "outputs": [
    {
     "data": {
      "text/plain": [
       "(100, 1)"
      ]
     },
     "execution_count": 9,
     "metadata": {},
     "output_type": "execute_result"
    }
   ],
   "source": [
    "degree.shape"
   ]
  },
  {
   "cell_type": "code",
   "execution_count": 134,
   "metadata": {},
   "outputs": [
    {
     "data": {
      "text/plain": [
       "12"
      ]
     },
     "execution_count": 134,
     "metadata": {},
     "output_type": "execute_result"
    }
   ],
   "source": [
    "max(degrees)+1"
   ]
  },
  {
   "cell_type": "code",
   "execution_count": 115,
   "metadata": {},
   "outputs": [
    {
     "data": {
      "text/plain": [
       "(70,)"
      ]
     },
     "execution_count": 115,
     "metadata": {},
     "output_type": "execute_result"
    }
   ],
   "source": [
    "np.where(np.array(degrees) == 2)[0].shape"
   ]
  },
  {
   "cell_type": "code",
   "execution_count": 112,
   "metadata": {},
   "outputs": [
    {
     "data": {
      "text/plain": [
       "array([  6,  38,  70, 101, 109,  71,  51,  26,  15,   5,   7,   1], dtype=int64)"
      ]
     },
     "execution_count": 112,
     "metadata": {},
     "output_type": "execute_result"
    }
   ],
   "source": [
    "temp"
   ]
  },
  {
   "cell_type": "code",
   "execution_count": 316,
   "metadata": {
    "collapsed": true
   },
   "outputs": [],
   "source": [
    "# rewiring \n",
    "R = np.multiply(R,A)\n",
    "Ruse = R\n",
    "for c1 in range(N):\n",
    "    for c2 in range(N):\n",
    "        if Ruse[c1,c2] <= Ruse[c2,c1]:\n",
    "            Ruse[c1,c2] = -1\n",
    "        else:\n",
    "            Ruse[c2,c1] = -1\n",
    "            \n",
    "            \n",
    "B = np.array(np.ndarray.flatten(Ruse))\n",
    "B = np.transpose(B)\n",
    "\n",
    "indices = np.argpartition(B.transpose()[0], -a)[-a:] # maxk function\n",
    "\n",
    "\n",
    "v = indices\n",
    "ie = np.floor((v-1)/N) \n",
    "je = np.fmod(v,N) - 1\n",
    "for vv in range(a):\n",
    "    if v[vv] == 0:\n",
    "        je[vv] = 0\n",
    "\n",
    "for j in range(a):\n",
    "    if (je[j] != add_site) & (A[int(ie[j]),int(je[j])]) != 0 & (A[add_site,je[j]] == 0):\n",
    "        A[int(ie[j]),int(je[j])] = 0\n",
    "        A[int(je[j]),int(ie[j])] = 0\n",
    "        \n",
    "        A[add_site,je[j]] = 1\n",
    "        A[je[j],add_site] = 1\n",
    "        \n",
    "        R = np.multiply((R+1),A)\n",
    "    "
   ]
  },
  {
   "cell_type": "code",
   "execution_count": null,
   "metadata": {
    "collapsed": true
   },
   "outputs": [],
   "source": []
  },
  {
   "cell_type": "code",
   "execution_count": null,
   "metadata": {
    "collapsed": true
   },
   "outputs": [],
   "source": []
  },
  {
   "cell_type": "code",
   "execution_count": null,
   "metadata": {
    "collapsed": true
   },
   "outputs": [],
   "source": []
  },
  {
   "cell_type": "code",
   "execution_count": null,
   "metadata": {
    "collapsed": true
   },
   "outputs": [],
   "source": []
  },
  {
   "cell_type": "code",
   "execution_count": 321,
   "metadata": {
    "collapsed": true
   },
   "outputs": [],
   "source": [
    "for j in range(a):\n",
    "    if (je[j] != add_site) & (A[int(ie[j]),int(je[j])]) != 0 & (A[add_site,je[j]] == 0):\n",
    "        A[int(ie[j]),int(je[j])] = 0\n",
    "        A[int(je[j]),int(ie[j])] = 0\n",
    "        \n",
    "        A[add_site,je[j]] = 1\n",
    "        A[je[j],add_site] = 1\n",
    "        \n",
    "        R = np.multiply((R+1),A)\n",
    "    "
   ]
  },
  {
   "cell_type": "code",
   "execution_count": 317,
   "metadata": {},
   "outputs": [
    {
     "data": {
      "text/plain": [
       "False"
      ]
     },
     "execution_count": 317,
     "metadata": {},
     "output_type": "execute_result"
    }
   ],
   "source": [
    "j = \n",
    "(je[j] != add_site) & (A[int(ie[j]-1),int(je[j]-1)]) != 0 & (A[add_site,je[j]] == 0)"
   ]
  },
  {
   "cell_type": "code",
   "execution_count": 310,
   "metadata": {},
   "outputs": [
    {
     "data": {
      "text/plain": [
       "True"
      ]
     },
     "execution_count": 310,
     "metadata": {},
     "output_type": "execute_result"
    }
   ],
   "source": [
    "(je[j] != add_site)"
   ]
  },
  {
   "cell_type": "code",
   "execution_count": 315,
   "metadata": {
    "collapsed": true
   },
   "outputs": [],
   "source": [
    "a = 10"
   ]
  },
  {
   "cell_type": "code",
   "execution_count": 322,
   "metadata": {},
   "outputs": [
    {
     "data": {
      "text/plain": [
       "matrix([[  0,   1,   0,   0,   0,   0,   1,   0,   0,   0,   0,   0,   0,\n",
       "           1,   0,   0,   0,   0,   0,   0],\n",
       "        [  2,   0,   0,   0,   0,   0,   0,   1,   1,   0,   0,   0,   0,\n",
       "           0,   0,   0,   0,   0,   0,   1],\n",
       "        [  0,   0,   0,   0,   0,   0,   0,   1,   0,   0,   0,   0,   0,\n",
       "           0,   0,   0,   0,   0,   0,   0],\n",
       "        [  0,   0,   0,   0,   1,   0,   1,   0,   0,   0,   1,   0,   1,\n",
       "           0,   0,   0,   1,   0,   0,   0],\n",
       "        [  0,   0,   0,  85,   0,   1,   0,   0,   1,   0,   0,   1,   0,\n",
       "           0,   0,   0,   0,   0,   0,   0],\n",
       "        [  0,   0,   0,   0, 106,   0,   1,   0,   0,   0,   0,   0,   0,\n",
       "           1,   1,   0,   0,   0,   0,   0],\n",
       "        [122,   0,   0, 125,   0, 127,   0,   1,   0,   1,   0,   0,   1,\n",
       "           0,   0,   0,   0,   0,   0,   1],\n",
       "        [  0, 143, 144,   0,   0,   0, 148,   0,   0,   0,   0,   0,   0,\n",
       "           0,   0,   1,   0,   0,   0,   0],\n",
       "        [  0,   1,   0,   0, 166,   0,   0,   0,   0,   0,   0,   1,   0,\n",
       "           0,   0,   0,   0,   0,   0,   0],\n",
       "        [  0,   0,   0,   0,   0,   0, 188,   0,   0,   0,   0,   0,   0,\n",
       "           0,   0,   0,   0,   0,   1,   1],\n",
       "        [  0,   0,   0, 205,   0,   0,   0,   0,   0,   0,   0,   1,   0,\n",
       "           0,   1,   1,   0,   0,   0,   0],\n",
       "        [  0,   0,   0,   0, 226,   0,   0,   0, 230,   0, 232,   0,   0,\n",
       "           0,   1,   0,   0,   0,   0,   0],\n",
       "        [  0,   0,   0, 245,   0,   0, 248,   0,   0,   0,   0,   0,   0,\n",
       "           1,   0,   0,   1,   0,   0,   0],\n",
       "        [262,   0,   0,   0,   0, 267,   0,   0,   0,   0,   0,   0, 274,\n",
       "           0,   0,   0,   0,   0,   0,   0],\n",
       "        [  0,   0,   0,   0,   0, 287,   0,   0,   0,   0, 292, 293,   0,\n",
       "           0,   0,   1,   0,   1,   0,   0],\n",
       "        [  0,   0,   0,   0,   0,   0,   0, 309,   0,   0, 312,   0,   0,\n",
       "           0, 316,   0,   0,   0,   0,   0],\n",
       "        [  0,   0,   0, 325,   0,   0,   0,   0,   0,   0,   0,   0, 334,\n",
       "           0,   0,   0,   0,   0,   0,   0],\n",
       "        [  0,   0,   0,   0,   0,   0,   0,   0,   0,   0,   0,   0,   0,\n",
       "           0, 356,   0,   0,   0,   0,   1],\n",
       "        [  0,   0,   0,   0,   0,   0,   0,   0,   0, 371,   0,   0,   0,\n",
       "           0,   0,   0,   0,   0,   0,   0],\n",
       "        [  0, 383,   0,   0,   0,   0, 388,   0,   0, 391,   0,   0,   0,\n",
       "           0,   0,   0,   0, 399,   0,   0]])"
      ]
     },
     "execution_count": 322,
     "metadata": {},
     "output_type": "execute_result"
    }
   ],
   "source": [
    "R"
   ]
  },
  {
   "cell_type": "code",
   "execution_count": 289,
   "metadata": {
    "collapsed": true
   },
   "outputs": [],
   "source": [
    "je = np.fmod(v,N) - 1\n",
    "for vv in range(a):\n",
    "    if v[vv] == 0:\n",
    "        je[vv] = 0\n",
    "    else:    \n",
    "        je[vv] = je[vv] + N"
   ]
  },
  {
   "cell_type": "code",
   "execution_count": 303,
   "metadata": {
    "collapsed": true
   },
   "outputs": [],
   "source": [
    "je = np.fmod(v,N) - 1"
   ]
  },
  {
   "cell_type": "code",
   "execution_count": 306,
   "metadata": {},
   "outputs": [
    {
     "data": {
      "text/plain": [
       "array([ 7,  8, 16])"
      ]
     },
     "execution_count": 306,
     "metadata": {},
     "output_type": "execute_result"
    }
   ],
   "source": [
    "je"
   ]
  },
  {
   "cell_type": "code",
   "execution_count": 286,
   "metadata": {},
   "outputs": [
    {
     "data": {
      "text/plain": [
       "False"
      ]
     },
     "execution_count": 286,
     "metadata": {},
     "output_type": "execute_result"
    }
   ],
   "source": [
    "vv=0\n",
    "v[vv] == -1"
   ]
  },
  {
   "cell_type": "code",
   "execution_count": 195,
   "metadata": {
    "collapsed": true
   },
   "outputs": [],
   "source": [
    "je = je + np.multiply(N,np.multiply(je==0,1))"
   ]
  },
  {
   "cell_type": "code",
   "execution_count": 129,
   "metadata": {},
   "outputs": [
    {
     "name": "stdout",
     "output_type": "stream",
     "text": [
      "[3]\n"
     ]
    },
    {
     "data": {
      "text/plain": [
       "array([110])"
      ]
     },
     "execution_count": 129,
     "metadata": {},
     "output_type": "execute_result"
    }
   ],
   "source": [
    "y = np.array([1,2,10, 110 ,1,1,1,2,3,4,5,6])\n",
    "n = 1\n",
    "print(np.argsort(y)[-n:])\n",
    "y[np.argsort(y)[-n:]]"
   ]
  },
  {
   "cell_type": "code",
   "execution_count": 122,
   "metadata": {
    "collapsed": true
   },
   "outputs": [],
   "source": [
    "ind = np.argpartition(y, -n)[-n:]"
   ]
  },
  {
   "cell_type": "code",
   "execution_count": 125,
   "metadata": {},
   "outputs": [
    {
     "data": {
      "text/plain": [
       "array([ 9, 10, 11,  2,  3])"
      ]
     },
     "execution_count": 125,
     "metadata": {},
     "output_type": "execute_result"
    }
   ],
   "source": [
    "ind"
   ]
  },
  {
   "cell_type": "code",
   "execution_count": 127,
   "metadata": {},
   "outputs": [
    {
     "data": {
      "text/plain": [
       "1"
      ]
     },
     "execution_count": 127,
     "metadata": {},
     "output_type": "execute_result"
    }
   ],
   "source": [
    "a"
   ]
  },
  {
   "cell_type": "code",
   "execution_count": null,
   "metadata": {
    "collapsed": true
   },
   "outputs": [],
   "source": []
  },
  {
   "cell_type": "code",
   "execution_count": 34,
   "metadata": {},
   "outputs": [
    {
     "ename": "SyntaxError",
     "evalue": "invalid syntax (<ipython-input-34-e26a7d5cbfb8>, line 1)",
     "output_type": "error",
     "traceback": [
      "\u001b[0;36m  File \u001b[0;32m\"<ipython-input-34-e26a7d5cbfb8>\"\u001b[0;36m, line \u001b[0;32m1\u001b[0m\n\u001b[0;31m    a = np.sum(ava)i\u001b[0m\n\u001b[0m                   ^\u001b[0m\n\u001b[0;31mSyntaxError\u001b[0m\u001b[0;31m:\u001b[0m invalid syntax\n"
     ]
    }
   ],
   "source": [
    "a = np.sum(ava)i"
   ]
  },
  {
   "cell_type": "code",
   "execution_count": 61,
   "metadata": {},
   "outputs": [
    {
     "data": {
      "text/plain": [
       "array([[[1., 1., 1., ..., 0., 0., 0.],\n",
       "        [0., 0., 0., ..., 2., 2., 0.],\n",
       "        [1., 0., 0., ..., 0., 0., 0.],\n",
       "        ...,\n",
       "        [0., 0., 0., ..., 0., 0., 0.],\n",
       "        [0., 1., 1., ..., 0., 0., 0.],\n",
       "        [1., 1., 1., ..., 1., 1., 0.]]])"
      ]
     },
     "execution_count": 61,
     "metadata": {},
     "output_type": "execute_result"
    }
   ],
   "source": []
  },
  {
   "cell_type": "code",
   "execution_count": 474,
   "metadata": {},
   "outputs": [
    {
     "name": "stdout",
     "output_type": "stream",
     "text": [
      "Using matplotlib backend: Qt5Agg\n"
     ]
    },
    {
     "ename": "ValueError",
     "evalue": "cannot reshape array of size 5000 into shape (10000,20)",
     "output_type": "error",
     "traceback": [
      "\u001b[0;31m---------------------------------------------------------------------------\u001b[0m",
      "\u001b[0;31mAttributeError\u001b[0m                            Traceback (most recent call last)",
      "\u001b[0;32m~/anaconda3/lib/python3.7/site-packages/numpy/core/fromnumeric.py\u001b[0m in \u001b[0;36m_wrapfunc\u001b[0;34m(obj, method, *args, **kwds)\u001b[0m\n\u001b[1;32m     50\u001b[0m     \u001b[0;32mtry\u001b[0m\u001b[0;34m:\u001b[0m\u001b[0;34m\u001b[0m\u001b[0;34m\u001b[0m\u001b[0m\n\u001b[0;32m---> 51\u001b[0;31m         \u001b[0;32mreturn\u001b[0m \u001b[0mgetattr\u001b[0m\u001b[0;34m(\u001b[0m\u001b[0mobj\u001b[0m\u001b[0;34m,\u001b[0m \u001b[0mmethod\u001b[0m\u001b[0;34m)\u001b[0m\u001b[0;34m(\u001b[0m\u001b[0;34m*\u001b[0m\u001b[0margs\u001b[0m\u001b[0;34m,\u001b[0m \u001b[0;34m**\u001b[0m\u001b[0mkwds\u001b[0m\u001b[0;34m)\u001b[0m\u001b[0;34m\u001b[0m\u001b[0;34m\u001b[0m\u001b[0m\n\u001b[0m\u001b[1;32m     52\u001b[0m \u001b[0;34m\u001b[0m\u001b[0m\n",
      "\u001b[0;31mAttributeError\u001b[0m: 'list' object has no attribute 'reshape'",
      "\nDuring handling of the above exception, another exception occurred:\n",
      "\u001b[0;31mValueError\u001b[0m                                Traceback (most recent call last)",
      "\u001b[0;32m<ipython-input-474-a1f62a500053>\u001b[0m in \u001b[0;36m<module>\u001b[0;34m\u001b[0m\n\u001b[1;32m      1\u001b[0m \u001b[0mget_ipython\u001b[0m\u001b[0;34m(\u001b[0m\u001b[0;34m)\u001b[0m\u001b[0;34m.\u001b[0m\u001b[0mrun_line_magic\u001b[0m\u001b[0;34m(\u001b[0m\u001b[0;34m'matplotlib'\u001b[0m\u001b[0;34m,\u001b[0m \u001b[0;34m''\u001b[0m\u001b[0;34m)\u001b[0m\u001b[0;34m\u001b[0m\u001b[0;34m\u001b[0m\u001b[0m\n\u001b[0;32m----> 2\u001b[0;31m \u001b[0mplt\u001b[0m\u001b[0;34m.\u001b[0m\u001b[0mplot\u001b[0m\u001b[0;34m(\u001b[0m\u001b[0mnp\u001b[0m\u001b[0;34m.\u001b[0m\u001b[0mreshape\u001b[0m\u001b[0;34m(\u001b[0m\u001b[0mxsave\u001b[0m\u001b[0;34m,\u001b[0m \u001b[0;34m(\u001b[0m\u001b[0;36m10000\u001b[0m\u001b[0;34m,\u001b[0m \u001b[0;36m20\u001b[0m\u001b[0;34m)\u001b[0m\u001b[0;34m)\u001b[0m\u001b[0;34m[\u001b[0m\u001b[0;34m-\u001b[0m\u001b[0;36m200\u001b[0m\u001b[0;34m:\u001b[0m\u001b[0;34m,\u001b[0m\u001b[0;34m:\u001b[0m\u001b[0;34m]\u001b[0m\u001b[0;34m,\u001b[0m \u001b[0mlinewidth\u001b[0m \u001b[0;34m=\u001b[0m \u001b[0;36m10\u001b[0m\u001b[0;34m)\u001b[0m\u001b[0;34m\u001b[0m\u001b[0;34m\u001b[0m\u001b[0m\n\u001b[0m",
      "\u001b[0;32m~/anaconda3/lib/python3.7/site-packages/numpy/core/fromnumeric.py\u001b[0m in \u001b[0;36mreshape\u001b[0;34m(a, newshape, order)\u001b[0m\n\u001b[1;32m    277\u001b[0m            [5, 6]])\n\u001b[1;32m    278\u001b[0m     \"\"\"\n\u001b[0;32m--> 279\u001b[0;31m     \u001b[0;32mreturn\u001b[0m \u001b[0m_wrapfunc\u001b[0m\u001b[0;34m(\u001b[0m\u001b[0ma\u001b[0m\u001b[0;34m,\u001b[0m \u001b[0;34m'reshape'\u001b[0m\u001b[0;34m,\u001b[0m \u001b[0mnewshape\u001b[0m\u001b[0;34m,\u001b[0m \u001b[0morder\u001b[0m\u001b[0;34m=\u001b[0m\u001b[0morder\u001b[0m\u001b[0;34m)\u001b[0m\u001b[0;34m\u001b[0m\u001b[0;34m\u001b[0m\u001b[0m\n\u001b[0m\u001b[1;32m    280\u001b[0m \u001b[0;34m\u001b[0m\u001b[0m\n\u001b[1;32m    281\u001b[0m \u001b[0;34m\u001b[0m\u001b[0m\n",
      "\u001b[0;32m~/anaconda3/lib/python3.7/site-packages/numpy/core/fromnumeric.py\u001b[0m in \u001b[0;36m_wrapfunc\u001b[0;34m(obj, method, *args, **kwds)\u001b[0m\n\u001b[1;32m     59\u001b[0m     \u001b[0;31m# a downstream library like 'pandas'.\u001b[0m\u001b[0;34m\u001b[0m\u001b[0;34m\u001b[0m\u001b[0;34m\u001b[0m\u001b[0m\n\u001b[1;32m     60\u001b[0m     \u001b[0;32mexcept\u001b[0m \u001b[0;34m(\u001b[0m\u001b[0mAttributeError\u001b[0m\u001b[0;34m,\u001b[0m \u001b[0mTypeError\u001b[0m\u001b[0;34m)\u001b[0m\u001b[0;34m:\u001b[0m\u001b[0;34m\u001b[0m\u001b[0;34m\u001b[0m\u001b[0m\n\u001b[0;32m---> 61\u001b[0;31m         \u001b[0;32mreturn\u001b[0m \u001b[0m_wrapit\u001b[0m\u001b[0;34m(\u001b[0m\u001b[0mobj\u001b[0m\u001b[0;34m,\u001b[0m \u001b[0mmethod\u001b[0m\u001b[0;34m,\u001b[0m \u001b[0;34m*\u001b[0m\u001b[0margs\u001b[0m\u001b[0;34m,\u001b[0m \u001b[0;34m**\u001b[0m\u001b[0mkwds\u001b[0m\u001b[0;34m)\u001b[0m\u001b[0;34m\u001b[0m\u001b[0;34m\u001b[0m\u001b[0m\n\u001b[0m\u001b[1;32m     62\u001b[0m \u001b[0;34m\u001b[0m\u001b[0m\n\u001b[1;32m     63\u001b[0m \u001b[0;34m\u001b[0m\u001b[0m\n",
      "\u001b[0;32m~/anaconda3/lib/python3.7/site-packages/numpy/core/fromnumeric.py\u001b[0m in \u001b[0;36m_wrapit\u001b[0;34m(obj, method, *args, **kwds)\u001b[0m\n\u001b[1;32m     39\u001b[0m     \u001b[0;32mexcept\u001b[0m \u001b[0mAttributeError\u001b[0m\u001b[0;34m:\u001b[0m\u001b[0;34m\u001b[0m\u001b[0;34m\u001b[0m\u001b[0m\n\u001b[1;32m     40\u001b[0m         \u001b[0mwrap\u001b[0m \u001b[0;34m=\u001b[0m \u001b[0;32mNone\u001b[0m\u001b[0;34m\u001b[0m\u001b[0;34m\u001b[0m\u001b[0m\n\u001b[0;32m---> 41\u001b[0;31m     \u001b[0mresult\u001b[0m \u001b[0;34m=\u001b[0m \u001b[0mgetattr\u001b[0m\u001b[0;34m(\u001b[0m\u001b[0masarray\u001b[0m\u001b[0;34m(\u001b[0m\u001b[0mobj\u001b[0m\u001b[0;34m)\u001b[0m\u001b[0;34m,\u001b[0m \u001b[0mmethod\u001b[0m\u001b[0;34m)\u001b[0m\u001b[0;34m(\u001b[0m\u001b[0;34m*\u001b[0m\u001b[0margs\u001b[0m\u001b[0;34m,\u001b[0m \u001b[0;34m**\u001b[0m\u001b[0mkwds\u001b[0m\u001b[0;34m)\u001b[0m\u001b[0;34m\u001b[0m\u001b[0;34m\u001b[0m\u001b[0m\n\u001b[0m\u001b[1;32m     42\u001b[0m     \u001b[0;32mif\u001b[0m \u001b[0mwrap\u001b[0m\u001b[0;34m:\u001b[0m\u001b[0;34m\u001b[0m\u001b[0;34m\u001b[0m\u001b[0m\n\u001b[1;32m     43\u001b[0m         \u001b[0;32mif\u001b[0m \u001b[0;32mnot\u001b[0m \u001b[0misinstance\u001b[0m\u001b[0;34m(\u001b[0m\u001b[0mresult\u001b[0m\u001b[0;34m,\u001b[0m \u001b[0mmu\u001b[0m\u001b[0;34m.\u001b[0m\u001b[0mndarray\u001b[0m\u001b[0;34m)\u001b[0m\u001b[0;34m:\u001b[0m\u001b[0;34m\u001b[0m\u001b[0;34m\u001b[0m\u001b[0m\n",
      "\u001b[0;31mValueError\u001b[0m: cannot reshape array of size 5000 into shape (10000,20)"
     ]
    }
   ],
   "source": [
    "%matplotlib\n",
    "plt.plot(np.reshape(xsave, (10000, 20))[-200:,:], linewidth = 10)"
   ]
  },
  {
   "cell_type": "code",
   "execution_count": 59,
   "metadata": {},
   "outputs": [
    {
     "data": {
      "text/plain": [
       "array([[3],\n",
       "       [2],\n",
       "       [1],\n",
       "       [5],\n",
       "       [4],\n",
       "       [4],\n",
       "       [7],\n",
       "       [4],\n",
       "       [3],\n",
       "       [3],\n",
       "       [4],\n",
       "       [4],\n",
       "       [4],\n",
       "       [3],\n",
       "       [5],\n",
       "       [3],\n",
       "       [2],\n",
       "       [2],\n",
       "       [1],\n",
       "       [6]])"
      ]
     },
     "execution_count": 59,
     "metadata": {},
     "output_type": "execute_result"
    }
   ],
   "source": [
    "degree"
   ]
  },
  {
   "cell_type": "code",
   "execution_count": 14,
   "metadata": {},
   "outputs": [
    {
     "name": "stdout",
     "output_type": "stream",
     "text": [
      "(500, 1)\n"
     ]
    }
   ],
   "source": [
    "#Initial State\n",
    "x=np.zeros((N,1));\n",
    "for i in range(N):\n",
    "    if degree[i]>0:\n",
    "        x[i]=np.random.randint(0,degree[i])\n",
    "    else:\n",
    "        x[i]=0\n",
    "        \n",
    "##Particle addition\n",
    "xb = x\n",
    "add_site = np.random.randint(0,N-1)\n",
    "x[add_site] = x[add_site] + 1\n",
    "print(x.shape)\n",
    "        \n",
    "count = 1\n",
    "degree = np.array(np.sum(A,0))[0]\n",
    "x_critical = degree + (degree==0)\n",
    "spikes = (x>=x_critical)\n",
    "ava = spikes"
   ]
  },
  {
   "cell_type": "code",
   "execution_count": 90,
   "metadata": {},
   "outputs": [
    {
     "name": "stdout",
     "output_type": "stream",
     "text": [
      "(10, 1)\n"
     ]
    }
   ],
   "source": []
  },
  {
   "cell_type": "code",
   "execution_count": 59,
   "metadata": {
    "collapsed": true
   },
   "outputs": [],
   "source": [
    "#Avalanche processing\n",
    "degree = np.array(np.sum(A,0))[0]\n",
    "spikes = np.zeros((N,1))\n",
    "xc = degree + (degree==0)\n",
    "spikes[np.where(x>=xc)[0]] = 1\n",
    "ava = spikes\n",
    "temp1 = np.zeros((N,1))"
   ]
  },
  {
   "cell_type": "code",
   "execution_count": 60,
   "metadata": {},
   "outputs": [
    {
     "data": {
      "text/plain": [
       "(10, 1)"
      ]
     },
     "execution_count": 60,
     "metadata": {},
     "output_type": "execute_result"
    }
   ],
   "source": []
  },
  {
   "cell_type": "code",
   "execution_count": null,
   "metadata": {
    "collapsed": true
   },
   "outputs": [],
   "source": [
    "if np.sum(np.multiply(degree,spikes)) > 0: \n",
    "    count = 0\n",
    "    degree = np.array(np.sum(A,0))[0]\n",
    "    x_critical = degree + (degree==0)\n",
    "    spikes = (x>=x_critical)\n",
    "    ava = spikes\n",
    "    while np.sum(np.multiply(degree,spikes))>0:\n",
    "        ava = np.multiply(((ava + spikes)>0),1)\n",
    "        spikes = np.multiply((x>=degree),1)\n",
    "        spikes = np.reshape(spikes.transpose(), (10,1))\n",
    "\n",
    "        x = x + A*spikes\n",
    "        x = x - np.multiply(spikes,degree)\n",
    "        x = x - (np.random.rand(N,1)>f)\n",
    "        x = np.multiply(x,(x>0))\n",
    "    #storextemp(:,count)=x;\n",
    "        count = count+1\n",
    "        #count = count + 1\n",
    "\n",
    "#ava=(ava+temp1)>0;\n",
    "#a=sum(ava);"
   ]
  },
  {
   "cell_type": "code",
   "execution_count": 62,
   "metadata": {},
   "outputs": [
    {
     "data": {
      "text/plain": [
       "array([[2.],\n",
       "       [1.],\n",
       "       [4.],\n",
       "       [2.],\n",
       "       [0.],\n",
       "       [1.],\n",
       "       [3.],\n",
       "       [2.],\n",
       "       [0.],\n",
       "       [4.]])"
      ]
     },
     "execution_count": 62,
     "metadata": {},
     "output_type": "execute_result"
    }
   ],
   "source": [
    "x"
   ]
  },
  {
   "cell_type": "code",
   "execution_count": 91,
   "metadata": {
    "collapsed": true
   },
   "outputs": [],
   "source": [
    "count = 0\n",
    "degree = np.array(np.sum(A,0))[0]\n",
    "degree = np.reshape(degree, (N,1))\n",
    "xc = np.reshape(degree + (degree==0), (N,1))\n",
    "spikes = np.multiply(x>=xc, 1)\n",
    "ava = spikes\n",
    "while np.sum(np.multiply(degree,spikes))> 0:\n",
    "    ava = np.multiply((ava+spikes)>0,1)\n",
    "    spikes = np.multiply(x>=degree, 1)\n",
    "    spikes = np.reshape(spikes,(N,1))\n",
    "    x = x + A*spikes\n",
    "    x = x - np.multiply(spikes,degree)\n",
    "    x = x - (np.random.rand(N,1)>f)\n",
    "    x = np.multiply(x,(x>0))\n",
    "    count = count + 1"
   ]
  },
  {
   "cell_type": "code",
   "execution_count": 94,
   "metadata": {
    "collapsed": true
   },
   "outputs": [],
   "source": [
    "spikes[1] = 1"
   ]
  },
  {
   "cell_type": "code",
   "execution_count": 92,
   "metadata": {},
   "outputs": [
    {
     "data": {
      "text/plain": [
       "0"
      ]
     },
     "execution_count": 92,
     "metadata": {},
     "output_type": "execute_result"
    }
   ],
   "source": [
    "count"
   ]
  },
  {
   "cell_type": "code",
   "execution_count": 88,
   "metadata": {},
   "outputs": [
    {
     "data": {
      "text/plain": [
       "0"
      ]
     },
     "execution_count": 88,
     "metadata": {},
     "output_type": "execute_result"
    }
   ],
   "source": [
    "np.sum(np.multiply(degree,spikes))"
   ]
  },
  {
   "cell_type": "code",
   "execution_count": 72,
   "metadata": {},
   "outputs": [
    {
     "data": {
      "text/plain": [
       "array([[2.],\n",
       "       [2.],\n",
       "       [1.],\n",
       "       [2.],\n",
       "       [0.],\n",
       "       [6.],\n",
       "       [1.],\n",
       "       [2.],\n",
       "       [0.],\n",
       "       [1.]])"
      ]
     },
     "execution_count": 72,
     "metadata": {},
     "output_type": "execute_result"
    }
   ],
   "source": [
    "x"
   ]
  },
  {
   "cell_type": "code",
   "execution_count": null,
   "metadata": {
    "collapsed": true
   },
   "outputs": [],
   "source": []
  },
  {
   "cell_type": "code",
   "execution_count": null,
   "metadata": {
    "collapsed": true
   },
   "outputs": [],
   "source": []
  },
  {
   "cell_type": "code",
   "execution_count": 19,
   "metadata": {},
   "outputs": [
    {
     "data": {
      "text/plain": [
       "10"
      ]
     },
     "execution_count": 19,
     "metadata": {},
     "output_type": "execute_result"
    }
   ],
   "source": []
  },
  {
   "cell_type": "code",
   "execution_count": 361,
   "metadata": {},
   "outputs": [
    {
     "data": {
      "text/plain": [
       "array([0, 0, 0, 0, 0, 0, 1, 0, 0, 0])"
      ]
     },
     "execution_count": 361,
     "metadata": {},
     "output_type": "execute_result"
    }
   ],
   "source": [
    "spikes"
   ]
  },
  {
   "cell_type": "code",
   "execution_count": 93,
   "metadata": {},
   "outputs": [
    {
     "data": {
      "text/plain": [
       "array([1, 2])"
      ]
     },
     "execution_count": 93,
     "metadata": {},
     "output_type": "execute_result"
    }
   ],
   "source": [
    "x"
   ]
  },
  {
   "cell_type": "code",
   "execution_count": 97,
   "metadata": {},
   "outputs": [
    {
     "data": {
      "text/plain": [
       "array([50,  5])"
      ]
     },
     "execution_count": 97,
     "metadata": {},
     "output_type": "execute_result"
    }
   ],
   "source": [
    "a=np.array([[10,0],[1,10]])\n",
    "np.dot(a,np.array([5,0]))"
   ]
  },
  {
   "cell_type": "code",
   "execution_count": null,
   "metadata": {
    "collapsed": true
   },
   "outputs": [],
   "source": []
  }
 ],
 "metadata": {
  "kernelspec": {
   "display_name": "Python 3",
   "language": "python",
   "name": "python3"
  },
  "language_info": {
   "codemirror_mode": {
    "name": "ipython",
    "version": 3
   },
   "file_extension": ".py",
   "mimetype": "text/x-python",
   "name": "python",
   "nbconvert_exporter": "python",
   "pygments_lexer": "ipython3",
   "version": "3.7.3"
  }
 },
 "nbformat": 4,
 "nbformat_minor": 2
}
