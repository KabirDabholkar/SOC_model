{
 "cells": [
  {
   "cell_type": "code",
   "execution_count": 88,
   "metadata": {},
   "outputs": [],
   "source": [
    "import pickle as pkl\n",
    "import numpy as np\n",
    "import matplotlib.pyplot as plt\n",
    "import seaborn as sns\n",
    "import os"
   ]
  },
  {
   "cell_type": "code",
   "execution_count": 89,
   "metadata": {},
   "outputs": [],
   "source": [
    "def step_key(file_name):\n",
    "    return int(file_name.split('_')[1])"
   ]
  },
  {
   "cell_type": "markdown",
   "metadata": {},
   "source": [
    "## Getting file names"
   ]
  },
  {
   "cell_type": "code",
   "execution_count": 91,
   "metadata": {},
   "outputs": [
    {
     "name": "stdout",
     "output_type": "stream",
     "text": [
      "['step_0_data.pkl', 'step_100_data.pkl', 'step_200_data.pkl', 'step_300_data.pkl', 'step_400_data.pkl', 'step_500_data.pkl', 'step_600_data.pkl', 'step_700_data.pkl', 'step_800_data.pkl', 'step_900_data.pkl', 'step_1000_data.pkl', 'step_1100_data.pkl', 'step_1200_data.pkl', 'step_1300_data.pkl', 'step_1400_data.pkl', 'step_1500_data.pkl', 'step_1600_data.pkl', 'step_1700_data.pkl', 'step_1800_data.pkl', 'step_1900_data.pkl', 'step_2000_data.pkl', 'step_2100_data.pkl', 'step_2200_data.pkl', 'step_2300_data.pkl', 'step_2400_data.pkl', 'step_2500_data.pkl', 'step_2600_data.pkl', 'step_2700_data.pkl', 'step_2800_data.pkl', 'step_2900_data.pkl', 'step_3000_data.pkl', 'step_3100_data.pkl', 'step_3200_data.pkl', 'step_3300_data.pkl', 'step_3400_data.pkl', 'step_3500_data.pkl', 'step_3600_data.pkl', 'step_3700_data.pkl', 'step_3800_data.pkl', 'step_3900_data.pkl', 'step_4000_data.pkl', 'step_4100_data.pkl', 'step_4200_data.pkl', 'step_4300_data.pkl', 'step_4400_data.pkl', 'step_4500_data.pkl', 'step_4600_data.pkl', 'step_4700_data.pkl', 'step_4800_data.pkl', 'step_4900_data.pkl', 'step_5000_data.pkl', 'step_5100_data.pkl', 'step_5200_data.pkl', 'step_5300_data.pkl', 'step_5400_data.pkl', 'step_5500_data.pkl', 'step_5600_data.pkl', 'step_5700_data.pkl', 'step_5800_data.pkl', 'step_5900_data.pkl', 'step_6000_data.pkl', 'step_6100_data.pkl', 'step_6200_data.pkl', 'step_6300_data.pkl', 'step_6400_data.pkl', 'step_6500_data.pkl', 'step_6600_data.pkl', 'step_6700_data.pkl', 'step_6800_data.pkl', 'step_6900_data.pkl', 'step_7000_data.pkl', 'step_7100_data.pkl', 'step_7200_data.pkl', 'step_7300_data.pkl', 'step_7400_data.pkl', 'step_7500_data.pkl', 'step_7600_data.pkl', 'step_7700_data.pkl', 'step_7800_data.pkl', 'step_7900_data.pkl', 'step_8000_data.pkl', 'step_8100_data.pkl', 'step_8200_data.pkl', 'step_8300_data.pkl', 'step_8400_data.pkl', 'step_8500_data.pkl', 'step_8600_data.pkl', 'step_8700_data.pkl', 'step_8800_data.pkl', 'step_8900_data.pkl', 'step_9000_data.pkl', 'step_9100_data.pkl', 'step_9200_data.pkl', 'step_9300_data.pkl', 'step_9400_data.pkl', 'step_9500_data.pkl', 'step_9600_data.pkl', 'step_9700_data.pkl', 'step_9800_data.pkl', 'step_9900_data.pkl']\n"
     ]
    }
   ],
   "source": [
    "N=1000\n",
    "F=0.001\n",
    "loc=\"/data/kabir/output/SOC_model/data_f\"+str(F)+\"N\"+str(N)+\"/\" #180519_\n",
    "files=os.listdir(loc)\n",
    "files.remove(\"avalanche_sizes.pkl\")\n",
    "for file in files:\n",
    "    if \"time\" in file:\n",
    "        time_file=file\n",
    "#print(time_file)\n",
    "files.remove(time_file)\n",
    "files=sorted(files,key=step_key)\n",
    "print(files)"
   ]
  },
  {
   "cell_type": "markdown",
   "metadata": {},
   "source": [
    "## Loading steps data from files"
   ]
  },
  {
   "cell_type": "code",
   "execution_count": 96,
   "metadata": {},
   "outputs": [],
   "source": [
    "steps=[]\n",
    "data=[]\n",
    "for file in files:\n",
    "    path=loc+file\n",
    "    #print(file)\n",
    "    with open(path,'rb') as pickle_file:\n",
    "        u = pkl._Unpickler(pickle_file)\n",
    "        u.encoding = 'latin1'\n",
    "        data.append(u.load()['dist'])\n",
    "    steps.append(step_key(file))\n",
    "    \n",
    "with open(loc+'avalanche_sizes.pkl','rb') as pickle_file:\n",
    "        u = pkl._Unpickler(pickle_file)\n",
    "        u.encoding = 'latin1'\n",
    "        avalanche_sizes=u.load()"
   ]
  },
  {
   "cell_type": "code",
   "execution_count": 34,
   "metadata": {},
   "outputs": [
    {
     "data": {
      "text/plain": [
       "dtype('bool')"
      ]
     },
     "execution_count": 34,
     "metadata": {},
     "output_type": "execute_result"
    }
   ],
   "source": [
    "data[0]['A'].dtype"
   ]
  },
  {
   "cell_type": "markdown",
   "metadata": {},
   "source": [
    "## Plotting final degree distribution"
   ]
  },
  {
   "cell_type": "code",
   "execution_count": 93,
   "metadata": {},
   "outputs": [
    {
     "data": {
      "image/png": "[encoded data removed]",
      "text/plain": [
       "<Figure size 1080x504 with 1 Axes>"
      ]
     },
     "metadata": {
      "needs_background": "light"
     },
     "output_type": "display_data"
    }
   ],
   "source": [
    "%matplotlib inline\n",
    "step=-1 ###last step is -1, first step is 0\n",
    "fig = plt.figure(figsize=(15, 7))\n",
    "plt.plot(data[step][0],data[step][1],'o')\n",
    "\n",
    "plt.yscale('log')\n",
    "plt.xscale('log')"
   ]
  },
  {
   "cell_type": "code",
   "execution_count": 36,
   "metadata": {},
   "outputs": [
    {
     "data": {
      "text/plain": [
       "[array([0., 1., 2., 3., 4., 5., 6.]), array([0, 0, 1, 2, 2, 2, 3])]"
      ]
     },
     "execution_count": 36,
     "metadata": {},
     "output_type": "execute_result"
    }
   ],
   "source": [
    "data[0]['dist']"
   ]
  },
  {
   "cell_type": "code",
   "execution_count": 35,
   "metadata": {},
   "outputs": [
    {
     "data": {
      "text/plain": [
       "False"
      ]
     },
     "execution_count": 35,
     "metadata": {},
     "output_type": "execute_result"
    }
   ],
   "source": [
    "np.all(data[0]['A']==data[1]['A'])"
   ]
  },
  {
   "cell_type": "code",
   "execution_count": 13,
   "metadata": {},
   "outputs": [
    {
     "name": "stderr",
     "output_type": "stream",
     "text": [
      "/home/kabir/anaconda3/lib/python3.7/site-packages/ipykernel_launcher.py:1: FutureWarning: elementwise comparison failed; returning scalar instead, but in the future will perform elementwise comparison\n",
      "  \"\"\"Entry point for launching an IPython kernel.\n"
     ]
    },
    {
     "data": {
      "text/plain": [
       "False"
      ]
     },
     "execution_count": 13,
     "metadata": {},
     "output_type": "execute_result"
    }
   ],
   "source": [
    "np.all(np.array(['save_distribution'][0])==np.array(p['save_distribution'][-1]))"
   ]
  },
  {
   "cell_type": "code",
   "execution_count": 23,
   "metadata": {},
   "outputs": [
    {
     "data": {
      "text/plain": [
       "3.93"
      ]
     },
     "execution_count": 23,
     "metadata": {},
     "output_type": "execute_result"
    }
   ],
   "source": [
    "np.dot(a[1].flat,a[0].flat)/5000"
   ]
  },
  {
   "cell_type": "code",
   "execution_count": 37,
   "metadata": {},
   "outputs": [
    {
     "data": {
      "image/png": "[encoded data removed]",
      "text/plain": [
       "<Figure size 432x288 with 2 Axes>"
      ]
     },
     "metadata": {
      "needs_background": "light"
     },
     "output_type": "display_data"
    },
    {
     "data": {
      "image/png": "[encoded data removed]",
      "text/plain": [
       "<Figure size 432x288 with 2 Axes>"
      ]
     },
     "metadata": {
      "needs_background": "light"
     },
     "output_type": "display_data"
    }
   ],
   "source": [
    "step=50\n",
    "A=data[step]['A']\n",
    "fig = plt.figure(figsize=(5, 5))\n",
    "plt.title(\"Adjacency Matrix\")\n",
    "#plt.imshow(A,cmap=\"Greys\",interpolation=\"none\")   \n",
    "%matplotlib inline\n",
    "sns.heatmap(A, cmap=\"Greys\")\n",
    "plt.show()\n",
    "\n",
    "A=data[step+1]['A']\n",
    "fig = plt.figure(figsize=(5, 5))\n",
    "plt.title(\"Adjacency Matrix\")\n",
    "#plt.imshow(A,cmap=\"Greys\",interpolation=\"none\")   \n",
    "%matplotlib inline\n",
    "sns.heatmap(A, cmap=\"Greys\")\n",
    "plt.show()"
   ]
  },
  {
   "cell_type": "code",
   "execution_count": 18,
   "metadata": {},
   "outputs": [
    {
     "data": {
      "text/plain": [
       "10"
      ]
     },
     "execution_count": 18,
     "metadata": {},
     "output_type": "execute_result"
    }
   ],
   "source": [
    "len(p['save_As'])"
   ]
  },
  {
   "cell_type": "code",
   "execution_count": 97,
   "metadata": {},
   "outputs": [
    {
     "data": {
      "text/plain": [
       "[<matplotlib.lines.Line2D at 0x7efb7b3b7908>]"
      ]
     },
     "execution_count": 97,
     "metadata": {},
     "output_type": "execute_result"
    },
    {
     "data": {
      "image/png": "[encoded data removed]",
      "text/plain": [
       "<Figure size 720x360 with 1 Axes>"
      ]
     },
     "metadata": {
      "needs_background": "light"
     },
     "output_type": "display_data"
    }
   ],
   "source": [
    "plt.figure(figsize=(10,5))\n",
    "plt.plot(avalanche_sizes)"
   ]
  },
  {
   "cell_type": "code",
   "execution_count": null,
   "metadata": {},
   "outputs": [],
   "source": [
    "clear all"
   ]
  },
  {
   "cell_type": "code",
   "execution_count": 81,
   "metadata": {},
   "outputs": [
    {
     "data": {
      "text/plain": [
       "array([1., 1., 0., 1., 1.])"
      ]
     },
     "execution_count": 81,
     "metadata": {},
     "output_type": "execute_result"
    }
   ],
   "source": [
    "I=np.identity(5)\n",
    "I[2,2]=0\n",
    "b=np.ones(5)\n",
    "np.matmul(I,b>0)"
   ]
  },
  {
   "cell_type": "code",
   "execution_count": 82,
   "metadata": {},
   "outputs": [
    {
     "data": {
      "text/plain": [
       "array([ True,  True,  True,  True,  True])"
      ]
     },
     "execution_count": 82,
     "metadata": {},
     "output_type": "execute_result"
    }
   ],
   "source": [
    "b>0"
   ]
  },
  {
   "cell_type": "code",
   "execution_count": null,
   "metadata": {},
   "outputs": [],
   "source": []
  }
 ],
 "metadata": {
  "kernelspec": {
   "display_name": "Python 2",
   "language": "python",
   "name": "python2"
  },
  "language_info": {
   "codemirror_mode": {
    "name": "ipython",
    "version": 3
   },
   "file_extension": ".py",
   "mimetype": "text/x-python",
   "name": "python",
   "nbconvert_exporter": "python",
   "pygments_lexer": "ipython3",
   "version": "3.7.3"
  }
 },
 "nbformat": 4,
 "nbformat_minor": 2
}
