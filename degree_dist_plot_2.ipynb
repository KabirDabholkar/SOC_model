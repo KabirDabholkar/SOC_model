{
 "cells": [
  {
   "cell_type": "code",
   "execution_count": 10,
   "metadata": {},
   "outputs": [],
   "source": [
    "import pickle as pkl\n",
    "import numpy as np\n",
    "import matplotlib.pyplot as plt\n",
    "import seaborn as sns\n",
    "import os"
   ]
  },
  {
   "cell_type": "code",
   "execution_count": 11,
   "metadata": {},
   "outputs": [],
   "source": [
    "def step_key(file_name):\n",
    "    return int(file_name.split('_')[1])"
   ]
  },
  {
   "cell_type": "markdown",
   "metadata": {},
   "source": [
    "## Getting file names"
   ]
  },
  {
   "cell_type": "code",
   "execution_count": 12,
   "metadata": {},
   "outputs": [
    {
     "name": "stdout",
     "output_type": "stream",
     "text": [
      "['step_0_data.pkl', 'step_10_data.pkl', 'step_20_data.pkl', 'step_30_data.pkl', 'step_40_data.pkl', 'step_50_data.pkl', 'step_60_data.pkl', 'step_70_data.pkl', 'step_80_data.pkl', 'step_90_data.pkl', 'step_100_data.pkl', 'step_110_data.pkl', 'step_120_data.pkl', 'step_130_data.pkl', 'step_140_data.pkl', 'step_150_data.pkl', 'step_160_data.pkl', 'step_170_data.pkl', 'step_180_data.pkl', 'step_190_data.pkl', 'step_200_data.pkl', 'step_210_data.pkl', 'step_220_data.pkl', 'step_230_data.pkl', 'step_240_data.pkl', 'step_250_data.pkl', 'step_260_data.pkl', 'step_270_data.pkl', 'step_280_data.pkl', 'step_290_data.pkl', 'step_300_data.pkl']\n"
     ]
    }
   ],
   "source": [
    "N=10000\n",
    "F=0.0001\n",
    "loc=\"/data/kabir/output/SOC_model/data_f\"+str(F)+\"N\"+str(N)+\"/\"\n",
    "files=os.listdir(loc)\n",
    "#files.remove(\"avalanche_sizes.pkl\")\n",
    "for file in files:\n",
    "    if \"time\" in file:\n",
    "        time_file=file\n",
    "#print(time_file)\n",
    "files.remove(time_file)\n",
    "files=sorted(files,key=step_key)\n",
    "print(files)"
   ]
  },
  {
   "cell_type": "markdown",
   "metadata": {},
   "source": [
    "## Loading steps data from files"
   ]
  },
  {
   "cell_type": "code",
   "execution_count": 13,
   "metadata": {},
   "outputs": [
    {
     "name": "stdout",
     "output_type": "stream",
     "text": [
      "step_0_data.pkl\n",
      "step_10_data.pkl\n"
     ]
    }
   ],
   "source": [
    "steps=[]\n",
    "data=[]\n",
    "for file in files[0:2]:\n",
    "    path=loc+file\n",
    "    print(file)\n",
    "    with open(path,'rb') as pickle_file:\n",
    "        u = pkl._Unpickler(pickle_file)\n",
    "        u.encoding = 'latin1'\n",
    "        data.append(u.load())\n",
    "    steps.append(step_key(file))"
   ]
  },
  {
   "cell_type": "markdown",
   "metadata": {},
   "source": [
    "## Plotting final degree distribution"
   ]
  },
  {
   "cell_type": "code",
   "execution_count": 17,
   "metadata": {},
   "outputs": [
    {
     "data": {
      "image/png": "[encoded data removed]",
      "text/plain": [
       "<Figure size 1080x504 with 1 Axes>"
      ]
     },
     "metadata": {
      "needs_background": "light"
     },
     "output_type": "display_data"
    }
   ],
   "source": [
    "%matplotlib inline\n",
    "step=-1 ###last step is -1, first step is 0\n",
    "fig = plt.figure(figsize=(15, 7))\n",
    "plt.plot(data[step]['dist'][0],data[step]['dist'][1],'o')\n",
    "#plt.xscale('log')\n",
    "plt.yscale('log')\n",
    "plt.xscale('log')"
   ]
  },
  {
   "cell_type": "code",
   "execution_count": 36,
   "metadata": {},
   "outputs": [
    {
     "data": {
      "text/plain": [
       "[array([0., 1., 2., 3., 4., 5., 6.]), array([0, 0, 1, 2, 2, 2, 3])]"
      ]
     },
     "execution_count": 36,
     "metadata": {},
     "output_type": "execute_result"
    }
   ],
   "source": [
    "data[0]['dist']"
   ]
  },
  {
   "cell_type": "code",
   "execution_count": 35,
   "metadata": {},
   "outputs": [
    {
     "data": {
      "text/plain": [
       "False"
      ]
     },
     "execution_count": 35,
     "metadata": {},
     "output_type": "execute_result"
    }
   ],
   "source": [
    "np.all(data[0]['A']==data[1]['A'])"
   ]
  },
  {
   "cell_type": "code",
   "execution_count": 13,
   "metadata": {},
   "outputs": [
    {
     "name": "stderr",
     "output_type": "stream",
     "text": [
      "/home/kabir/anaconda3/lib/python3.7/site-packages/ipykernel_launcher.py:1: FutureWarning: elementwise comparison failed; returning scalar instead, but in the future will perform elementwise comparison\n",
      "  \"\"\"Entry point for launching an IPython kernel.\n"
     ]
    },
    {
     "data": {
      "text/plain": [
       "False"
      ]
     },
     "execution_count": 13,
     "metadata": {},
     "output_type": "execute_result"
    }
   ],
   "source": [
    "np.all(np.array(['save_distribution'][0])==np.array(p['save_distribution'][-1]))"
   ]
  },
  {
   "cell_type": "code",
   "execution_count": 23,
   "metadata": {},
   "outputs": [
    {
     "data": {
      "text/plain": [
       "3.93"
      ]
     },
     "execution_count": 23,
     "metadata": {},
     "output_type": "execute_result"
    }
   ],
   "source": [
    "np.dot(a[1].flat,a[0].flat)/5000"
   ]
  },
  {
   "cell_type": "code",
   "execution_count": 20,
   "metadata": {},
   "outputs": [
    {
     "data": {
      "image/png": "[encoded data removed]",
      "text/plain": [
       "<Figure size 432x288 with 2 Axes>"
      ]
     },
     "metadata": {
      "needs_background": "light"
     },
     "output_type": "display_data"
    },
    {
     "data": {
      "image/png": "[encoded data removed]",
      "text/plain": [
       "<Figure size 432x288 with 2 Axes>"
      ]
     },
     "metadata": {
      "needs_background": "light"
     },
     "output_type": "display_data"
    }
   ],
   "source": [
    "step=9\n",
    "A=p['save_As'][step]\n",
    "fig = plt.figure(figsize=(5, 5))\n",
    "plt.title(\"Adjacency Matrix\")\n",
    "#plt.imshow(A,cmap=\"Greys\",interpolation=\"none\")   \n",
    "%matplotlib inline\n",
    "sns.heatmap(A, cmap=\"Greys\")\n",
    "plt.show()\n",
    "\n",
    "A=p['save_As'][step+1]\n",
    "fig = plt.figure(figsize=(5, 5))\n",
    "plt.title(\"Adjacency Matrix\")\n",
    "#plt.imshow(A,cmap=\"Greys\",interpolation=\"none\")   \n",
    "%matplotlib inline\n",
    "sns.heatmap(A, cmap=\"Greys\")\n",
    "plt.show()"
   ]
  },
  {
   "cell_type": "code",
   "execution_count": 18,
   "metadata": {},
   "outputs": [
    {
     "data": {
      "text/plain": [
       "10"
      ]
     },
     "execution_count": 18,
     "metadata": {},
     "output_type": "execute_result"
    }
   ],
   "source": [
    "len(p['save_As'])"
   ]
  },
  {
   "cell_type": "code",
   "execution_count": 26,
   "metadata": {},
   "outputs": [
    {
     "data": {
      "text/plain": [
       "[<matplotlib.lines.Line2D at 0x7f8038c1fcc0>]"
      ]
     },
     "execution_count": 26,
     "metadata": {},
     "output_type": "execute_result"
    },
    {
     "data": {
      "image/png": "[encoded data removed]",
      "text/plain": [
       "<Figure size 720x360 with 1 Axes>"
      ]
     },
     "metadata": {
      "needs_background": "light"
     },
     "output_type": "display_data"
    }
   ],
   "source": [
    "plt.figure(figsize=(10,5))\n",
    "plt.plot(p['avalanche_size'])"
   ]
  },
  {
   "cell_type": "code",
   "execution_count": null,
   "metadata": {},
   "outputs": [],
   "source": [
    "clear all"
   ]
  }
 ],
 "metadata": {
  "kernelspec": {
   "display_name": "Python 2",
   "language": "python",
   "name": "python2"
  },
  "language_info": {
   "codemirror_mode": {
    "name": "ipython",
    "version": 3
   },
   "file_extension": ".py",
   "mimetype": "text/x-python",
   "name": "python",
   "nbconvert_exporter": "python",
   "pygments_lexer": "ipython3",
   "version": "3.7.3"
  }
 },
 "nbformat": 4,
 "nbformat_minor": 2
}
